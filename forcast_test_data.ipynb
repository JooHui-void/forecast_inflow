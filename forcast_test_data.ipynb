{
  "nbformat": 4,
  "nbformat_minor": 0,
  "metadata": {
    "colab": {
      "name": "june_lstm_0_0013.ipynb",
      "private_outputs": true,
      "provenance": [],
      "collapsed_sections": []
    },
    "kernelspec": {
      "name": "python3",
      "display_name": "Python 3"
    },
    "language_info": {
      "name": "python"
    }
  },
  "cells": [
    {
      "cell_type": "code",
      "metadata": {
        "id": "W-3J9eZjFi7n"
      },
      "source": [
        "import numpy as np\n",
        "import pandas as pd\n",
        "import os\n",
        "import openpyxl\n",
        "import tensorflow as tf\n",
        "from openpyxl import load_workbook\n",
        "import matplotlib.pyplot as plt\n",
        "import matplotlib.ticker as ticker\n",
        "from pandas import DataFrame\n",
        "from sklearn.preprocessing import MinMaxScaler\n",
        "from pandas import concat\n",
        "from tensorflow.keras.layers import LSTM,Dense,GRU,Dropout,SimpleRNN\n",
        "from sklearn.metrics import mean_squared_error\n",
        "from keras.callbacks import EarlyStopping, ModelCheckpoint\n",
        "from keras.models import Sequential\n",
        "from keras.layers import Dense"
      ],
      "execution_count": null,
      "outputs": []
    },
    {
      "cell_type": "code",
      "metadata": {
        "id": "sE9q8A6vJOhS"
      },
      "source": [
        "'''\n",
        "from google.colab import drive\n",
        "drive.mount('/content/drive')\n",
        "'''"
      ],
      "execution_count": null,
      "outputs": []
    },
    {
      "cell_type": "code",
      "metadata": {
        "id": "HguzcX5sFvNw"
      },
      "source": [
        "def series_to_supervised(data, n_in=1, n_out=1, dropnan=True):\n",
        "    n_vars = 1 if type(data) is list else data.shape[1]\n",
        "    df = DataFrame(data)\n",
        "    cols, names = list(), list()\n",
        "    # input sequence (t-n, ... t-1)\n",
        "    for i in range(n_in, 0, -1):\n",
        "        cols.append(df.shift(i))\n",
        "        names += [('var%d(t-%d)' % (j + 1, i)) for j in range(n_vars)]\n",
        "    # forecast sequence (t, t+1, ... t+n)\n",
        "    for i in range(0, n_out):\n",
        "        cols.append(df.shift(-i))\n",
        "        if i == 0:\n",
        "            names += [('var%d(t)' % (j + 1)) for j in range(n_vars)]\n",
        "        else:\n",
        "            names += [('var%d(t+%d)' % (j + 1, i)) for j in range(n_vars)]\n",
        "    # put it all together\n",
        "    agg = concat(cols, axis=1)\n",
        "    agg.columns = names\n",
        "    # drop rows with NaN values\n",
        "    if dropnan:\n",
        "        agg.dropna(inplace=True)\n",
        "    return agg"
      ],
      "execution_count": null,
      "outputs": []
    },
    {
      "cell_type": "code",
      "metadata": {
        "id": "cdo9u99FB3FN"
      },
      "source": [
        "import random as rn\n",
        "seed_num =42\n",
        "np.random.seed(seed_num)\n",
        "rn.seed(seed_num)\n",
        "tf.random.set_seed(seed_num)"
      ],
      "execution_count": null,
      "outputs": []
    },
    {
      "cell_type": "code",
      "metadata": {
        "id": "ZdR4KfojFzaH"
      },
      "source": [
        "n_hours = 3\n",
        "n_features = 43\n",
        "'''\n",
        "train_num_24 = 2789\n",
        "train_num_25 = 2892\n",
        "train_num_19 = 1934\n",
        "'''\n",
        "train_num_24 = 2788\n",
        "train_num_25 = 2891\n",
        "train_num_19 = 1933"
      ],
      "execution_count": null,
      "outputs": []
    },
    {
      "cell_type": "code",
      "metadata": {
        "id": "P5zTTaMrF5eG"
      },
      "source": [
        "from google.colab import drive\n",
        "filename = '/content/rain_data.xlsx'\n",
        "\n",
        "df = pd.read_excel(filename)"
      ],
      "execution_count": null,
      "outputs": []
    },
    {
      "cell_type": "code",
      "metadata": {
        "id": "PeC_Na7pGFWS"
      },
      "source": [
        "# df_metrix 만드는 과정\n",
        "df_matrix = df.to_numpy()\n",
        "\n",
        "\n",
        "df_matrix = df_matrix.astype('float32')\n",
        "df_matrix = df_matrix[:,5:]\n",
        "\n",
        "scaler = MinMaxScaler(feature_range=(0, 1))\n",
        "df_matrix = scaler.fit_transform(df_matrix)\n",
        "\n",
        "df_matrix1 = df_matrix[0:train_num_24, 5:] # 주 numpy\n",
        "# df_matrix2 = df_matrix[train_num_24-4:train_num_25,5:] \n",
        "y = df_matrix[n_hours:train_num_24,42:43]\n",
        "ans = df_matrix[train_num_24:train_num_25,5:6]\n",
        "\n",
        "print(y.shape)\n",
        "print(y)\n",
        "print(df_matrix[0,0])"
      ],
      "execution_count": null,
      "outputs": []
    },
    {
      "cell_type": "code",
      "metadata": {
        "id": "sIXZ9__XGOrQ"
      },
      "source": [
        "# print(df_matrix)\n",
        "lag = series_to_supervised(df_matrix1, n_hours,1)\n",
        "\n",
        "# print(lag)\n",
        "# print(lag.shape[1])\n",
        "# for i in range(215,258):\n",
        "#     lag.drop(lag.columns[[i]], axis = 1, inplace = True)\n",
        "\n",
        "\n",
        "lag = lag.values\n",
        "\n",
        "tmp = lag.shape[1]\n",
        "\n",
        "lag = lag[:,0:tmp-1]\n",
        "print(lag.shape)\n",
        "lag\n"
      ],
      "execution_count": null,
      "outputs": []
    },
    {
      "cell_type": "code",
      "metadata": {
        "id": "1NFZMZgeGUQO"
      },
      "source": [
        "n_train_hours = train_num_19\n",
        "train_X = lag[:n_train_hours, :]\n",
        "test_X = lag[n_train_hours:, :]\n",
        "train_y = y[:n_train_hours, :]\n",
        "test_y = y[n_train_hours:, :]"
      ],
      "execution_count": null,
      "outputs": []
    },
    {
      "cell_type": "code",
      "metadata": {
        "id": "ilggz1NPGU8W"
      },
      "source": [
        "n_obs = n_hours * (n_features)\n",
        "# train_X, train_y = train[:, :n_obs], train[:, -130]\n",
        "print('train_X: ',train_X)\n",
        "print('train_y: ',train_y)\n",
        "# test_X, test_y = test[:, :n_obs], test[:, -130]\n",
        "#print('test_y: ',test_y)\n",
        "print(train_X.shape, len(train_X), test_X.shape)\n",
        "garo = train_X.shape[1]\n",
        "print(garo)\n",
        "# reshape input to be 3D [samples, timesteps, features]\n",
        "train_X = train_X.reshape((train_X.shape[0],1, train_X.shape[1]))\n",
        "test_X = test_X.reshape((test_X.shape[0],1, test_X.shape[1]))\n",
        "\n",
        "print(train_X.shape, train_y.shape, test_X.shape, test_y.shape)"
      ],
      "execution_count": null,
      "outputs": []
    },
    {
      "cell_type": "code",
      "metadata": {
        "id": "QD2R74DQMOSu"
      },
      "source": [
        "#print('test_y: ',test_y)"
      ],
      "execution_count": null,
      "outputs": []
    },
    {
      "cell_type": "code",
      "metadata": {
        "id": "JpbxVi59Jp8f"
      },
      "source": [
        "train_y"
      ],
      "execution_count": null,
      "outputs": []
    },
    {
      "cell_type": "code",
      "metadata": {
        "id": "5W99LSWFGlov"
      },
      "source": [
        "plt.figure(figsize=(20, 10))\n",
        "# sns.lineplot(y=df_scaled['유입량'], x=df['일자'])\n",
        "# plt.xlabel('TIME')\n",
        "# plt.ylabel('AMOUNT')\n",
        "plt.plot(df['유입량'])\n",
        "plt.xlabel('TIME')\n",
        "plt.ylabel('AMOUNT')"
      ],
      "execution_count": null,
      "outputs": []
    },
    {
      "cell_type": "code",
      "metadata": {
        "id": "d4SMUPltHBjn"
      },
      "source": [
        "model = Sequential()\n",
        "model.add(LSTM(20, input_shape=(train_X.shape[1],train_X.shape[2]), activation='tanh', return_sequences=False))\n",
        "model.add(Dense(1))"
      ],
      "execution_count": null,
      "outputs": []
    },
    {
      "cell_type": "code",
      "metadata": {
        "id": "qtPtb8fhHfXP"
      },
      "source": [
        "import os\n",
        "from keras import optimizers\n",
        "\n",
        "optimizer = tf.keras.optimizers.Adam(lr=0.0001)\n",
        "\n",
        "model.compile(loss='mean_squared_error', optimizer='adam')\n",
        "#early_stop = EarlyStopping(monitor='val_loss', patience=3)\n",
        "#model_path = 'model'\n",
        "#filename = os.path.join(model_path, 'tmp_checkpoint.h5')\n",
        "#checkpoint = ModelCheckpoint(filename, monitor='val_loss', verbose=1, save_best_only=True, mode='auto')\n",
        "\n",
        "history = model.fit(train_X, train_y, \n",
        "                                    epochs=50, \n",
        "                                    batch_size=32,\n",
        "                                    validation_data=(test_X, test_y), \n",
        "                                    )"
      ],
      "execution_count": null,
      "outputs": []
    },
    {
      "cell_type": "code",
      "metadata": {
        "id": "3hXN2xiD6ZAO"
      },
      "source": [
        "yhat = model.predict(test_X)\n",
        "test_X = test_X.reshape((test_X.shape[0], garo))\n",
        "# invert scaling for forecast\n",
        "inv_yhat = np.concatenate((yhat, test_X[:, -42:]), axis=1)\n",
        "inv_yhat = scaler.inverse_transform(inv_yhat)\n",
        "inv_yhat = inv_yhat[:,0]\n"
      ],
      "execution_count": null,
      "outputs": []
    },
    {
      "cell_type": "code",
      "metadata": {
        "id": "eQT9D5N0-Xpn"
      },
      "source": [
        "test_y = test_y.reshape((len(test_y), 1))\n",
        "inv_y = np.concatenate((test_y, test_X[:, -42:]), axis=1)\n",
        "inv_y = scaler.inverse_transform(inv_y)\n",
        "inv_y = inv_y[:,0]\n",
        "print(inv_y)"
      ],
      "execution_count": null,
      "outputs": []
    },
    {
      "cell_type": "code",
      "metadata": {
        "id": "FIuGHNl99obg"
      },
      "source": [
        "print(inv_yhat[0])"
      ],
      "execution_count": null,
      "outputs": []
    },
    {
      "cell_type": "code",
      "metadata": {
        "id": "ACLLpG9B92sv"
      },
      "source": [
        ""
      ],
      "execution_count": null,
      "outputs": []
    },
    {
      "cell_type": "code",
      "metadata": {
        "id": "Qj2YDP_fH2R1"
      },
      "source": [
        "RMSE = mean_squared_error(test_y,pred)**0.5\n",
        "RMSE"
      ],
      "execution_count": null,
      "outputs": []
    },
    {
      "cell_type": "code",
      "metadata": {
        "id": "QVXWTByLMA5Y"
      },
      "source": [
        "plt.figure(figsize=(12, 9))\n",
        "plt.plot(history.history['loss'],label = 'train')\n",
        "plt.plot(history.history['val_loss'], label = 'test')\n",
        "\n",
        "plt.show()"
      ],
      "execution_count": null,
      "outputs": []
    },
    {
      "cell_type": "code",
      "metadata": {
        "id": "czJHxnvqH-6G"
      },
      "source": [
        "plt.figure(figsize=(12, 9))\n",
        "plt.plot(test_y, label = 'actual')\n",
        "plt.plot(pred, label = 'prediction')\n",
        "plt.legend()\n",
        "plt.show()"
      ],
      "execution_count": null,
      "outputs": []
    }
  ]
}